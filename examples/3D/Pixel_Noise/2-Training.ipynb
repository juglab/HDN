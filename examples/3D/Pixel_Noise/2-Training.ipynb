{
 "cells": [
  {
   "cell_type": "code",
   "execution_count": 1,
   "metadata": {},
   "outputs": [],
   "source": [
    "import os\n",
    "import warnings\n",
    "import urllib\n",
    "import zipfile\n",
    "warnings.filterwarnings('ignore')\n",
    "# We import all our dependencies.\n",
    "import numpy as np\n",
    "import torch\n",
    "import sys\n",
    "sys.path.insert(0, '/home/igor.zubarev/projects/HDN-main/')\n",
    "\n",
    "from models.lvae import LadderVAE\n",
    "from lib.gaussianMixtureNoiseModel import GaussianMixtureNoiseModel\n",
    "from boilerplate import boilerplate\n",
    "import lib.utils as utils\n",
    "import training\n",
    "from tifffile import imread\n",
    "from scipy import ndimage\n",
    "from matplotlib import pyplot as plt\n",
    "from tqdm import tqdm"
   ]
  },
  {
   "cell_type": "code",
   "execution_count": 2,
   "metadata": {},
   "outputs": [],
   "source": [
    "use_cuda = torch.cuda.is_available()\n",
    "device = torch.device(\"cuda\" if use_cuda else \"cpu\")"
   ]
  },
  {
   "cell_type": "markdown",
   "metadata": {},
   "source": [
    "# Configure Hierarchical DivNoising Model"
   ]
  },
  {
   "cell_type": "markdown",
   "metadata": {},
   "source": [
    "<code>model_name</code> specifies the name of the model with which the weights will be saved and wil be loaded later for prediction.<br>\n",
    "<code>directory_path</code> specifies the directory where the model weights and the intermediate denoising and generation results will be saved. <br>\n",
    "<code>noiseModel</code> specifies a noise model for training. If noisy data is generated synthetically using Gaussian noise, set it to None.<br>\n",
    "<code>batch_size</code> specifies the batch size used for training. The default batch size of $16$ works well for most natural image datasets.<br>\n",
    "<code>virtual_batch</code> specifies the virtual batch size used for training. It divides the <code>batch_size</code> into smaller mini-batches of size <code>virtual_batch</code>. Decrease this if batches do not fit in memory.<br>\n",
    "<code>test_batch_size</code> specifies the batch size used for testing every $1000$ training steps. Decrease this if test batches do not fit in memory, it does not have any consequence on training. It is just for intermediate visual debugging.<br>\n",
    "<code>lr</code> specifies the learning rate.<br>\n",
    "<code>max_epochs</code> specifies the total number of training epochs. Around $150-200$ epochs work well generally.<br>\n",
    "<code>steps_per_epoch</code> specifies how many steps to take per epoch of training. Around $500$ steps work well for most natural image datasets.<br>\n",
    "<code>num_latents</code> specifies the number of stochastic layers. The default setting of $6$ works well for most datasets but quite good results can also be obtained with as less as $4$ layers. However, more stochastic layers may improve performance for some datasets at the cost of increased training time.<br>\n",
    "<code>z_dims</code> specifies the number of bottleneck dimensions (latent space dimensions) at each stochastic layer per pixel. The default setting of $32$ works well for most datasets.<br>\n",
    "<code>blocks_per_layer</code> specifies how many residual blocks to use per stochastic layer. Usually, setting it to be $4$ or more works well. However, more residual blocks improve performance at the cost of increased training time.<br>\n",
    "<code>batchnorm</code> specifies if batch normalization is used or not. Turning it to True is recommended.<br>\n",
    "<code>free_bits</code> specifies the threshold below which KL loss is not optimized for. This prevents the [KL-collapse problem](https://arxiv.org/pdf/1511.06349.pdf%3Futm_campaign%3DRevue%2520newsletter%26utm_medium%3DNewsletter%26utm_source%3Drevue). The default setting of $1.0$ works well for most datasets.<br>\n",
    "\n",
    "**__Note:__** With these settings, training will take approximately $12$ hours on Tesla P100/Titan Xp GPU needing less than 6 GB GPU memory. We optimized the code to run on less GPU memory. For faster training, consider increasing ```virtual_batch_size``` but since we have not tested with different settings of ```virtual_batch_size```, we do not yet know how this affects results. To reduce traing time, also consider reducing either ```num_latents``` or ```blocks_per_layer``` to $4$. These settings will bring down the training time even more."
   ]
  },
  {
   "cell_type": "code",
   "execution_count": 3,
   "metadata": {},
   "outputs": [],
   "source": [
    "### We extract overlapping patches of size ```patch_size x patch_size``` from training and validation images.\n",
    "### Usually 128x128 patches work well for most natural image datasets\n",
    "patch_size = 64\n",
    "\n",
    "gaussian_noise_std = None\n",
    "\n",
    "\n",
    "model_name = \"mouse\"\n",
    "directory_path = \"./Trained_model/\"\n",
    "load_checkpoint = False\n",
    "noiseModel = None\n",
    "\n",
    "# Training-specific\n",
    "batch_size = 4\n",
    "virtual_batch = batch_size\n",
    "lr = 3e-4\n",
    "max_epochs = 30\n",
    "steps_per_epoch = 500\n",
    "test_batch_size = 8 #Assert > num images to save test\n",
    "\n",
    "# Model-specific\n",
    "num_latents = 5\n",
    "z_dims = [32]*int(num_latents)\n",
    "blocks_per_layer = 4\n",
    "batchnorm = True\n",
    "free_bits = 1.0"
   ]
  },
  {
   "cell_type": "code",
   "execution_count": 4,
   "metadata": {},
   "outputs": [],
   "source": [
    "# create a folder for our data\n",
    "if not os.path.isdir('./data'):\n",
    "    os.mkdir('data')\n",
    "\n",
    "link = 'https://download.fht.org/jug/denoiseg/Mouse-Organoid-Cells-CBG-128_n20.zip'\n",
    "\n",
    "# check if data has been downloaded already\n",
    "zipPath = 'data/Mouse-Organoid-Cells-CBG-128_n20.zip'\n",
    "if not os.path.exists(zipPath):\n",
    "    data = urllib.request.urlretrieve(link, zipPath)\n",
    "\n",
    "#unzip the files\n",
    "if not os.path.exists(zipPath[:-4]):\n",
    "    with zipfile.ZipFile(zipPath, 'r') as zip_ref:\n",
    "        zip_ref.extractall('data')"
   ]
  },
  {
   "cell_type": "code",
   "execution_count": 7,
   "metadata": {},
   "outputs": [
    {
     "name": "stdout",
     "output_type": "stream",
     "text": [
      "Shape of Train volume:      (40, 32, 128, 128)\n",
      "Shape of Train mask:        (40, 32, 128, 128)\n",
      "Shape of Validation volume: (22, 32, 128, 128)\n",
      "Shape of Validation mask:   (22, 32, 128, 128)\n"
     ]
    }
   ],
   "source": [
    "train = np.load(os.path.join(zipPath[:-8], 'train_data_n20.npz'))\n",
    "val = np.load(os.path.join(zipPath[:-8], 'test_data_n20.npz'))\n",
    "\n",
    "c = 40\n",
    "X = train['X_train'][:c, ...].astype(np.float32)\n",
    "val = val['X_test'][:c, ...].astype(np.float32)\n",
    "\n",
    "print(\"Shape of Train volume:      {}\".format(X.shape))\n",
    "print(\"Shape of Validation volume: {}\".format(val.shape))\n"
   ]
  },
  {
   "cell_type": "code",
   "execution_count": 8,
   "metadata": {},
   "outputs": [],
   "source": [
    "!{sys.executable} -m pip install itkwidgets"
   ]
  },
  {
   "cell_type": "code",
   "execution_count": 10,
   "metadata": {},
   "outputs": [
    {
     "data": {
      "application/vnd.jupyter.widget-view+json": {
       "model_id": "ab522b4328ed443995f2e79ab71458e9",
       "version_major": 2,
       "version_minor": 0
      },
      "text/plain": [
       "Viewer(geometries=[], gradient_opacity=0.22, point_sets=[], rendered_image=<itk.itkImagePython.itkImageF3; pro…"
      ]
     },
     "execution_count": 10,
     "metadata": {},
     "output_type": "execute_result"
    }
   ],
   "source": [
    "from itkwidgets import view, compare\n",
    "\n",
    "\n",
    "view(X)"
   ]
  },
  {
   "cell_type": "markdown",
   "metadata": {},
   "source": [
    "# 3D visualization[optional]\n",
    "\n",
    "#### For 3D visualization to be representative we resize the volume according to dataset's voxel(ZYX) size of [1.0, 0.1733, 0.1733] um. You may want to adjust the brighness level"
   ]
  },
  {
   "cell_type": "code",
   "execution_count": 11,
   "metadata": {},
   "outputs": [],
   "source": [
    "# Here we resize the volume for visualization purposes\n",
    "\n",
    "# X_resized_3d = ndimage.zoom(d[:, :, :480], (1.9, 1, 1), order=0)\n",
    "# print(X_resized_3d.shape)\n",
    "# view(X_resized_3d)"
   ]
  },
  {
   "cell_type": "code",
   "execution_count": 10,
   "metadata": {},
   "outputs": [
    {
     "name": "stdout",
     "output_type": "stream",
     "text": [
      "(1440, 32, 64, 64)\n"
     ]
    },
    {
     "data": {
      "application/vnd.jupyter.widget-view+json": {
       "model_id": "224d73fae07742e5844e18b263d669a0",
       "version_major": 2,
       "version_minor": 0
      },
      "text/plain": [
       "Viewer(geometries=[], gradient_opacity=0.22, point_sets=[], rendered_image=<itk.itkImagePython.itkImageF3; pro…"
      ]
     },
     "execution_count": 10,
     "metadata": {},
     "output_type": "execute_result"
    }
   ],
   "source": [
    "from skimage.util import view_as_windows\n",
    "\n",
    "#TODO Add dataloader\n",
    "split_windows_train = view_as_windows(X[:, :, :], (1, 32, 64, 64), (1, 12, 12, 12)).squeeze().reshape((-1, 32, 64, 64))\n",
    "split_windows_val = view_as_windows(val[:, :, :], (1, 32, 64, 64), (1, 12, 12, 12)).squeeze().reshape((-1, 32, 64, 64))\n",
    "\n",
    "img_shape = (split_windows_train.shape[1], split_windows_train.shape[2], split_windows_train.shape[3])\n",
    "\n",
    "print(\"Shape of Train tiles:      {}\".format(split_windows_train.shape))\n",
    "print(\"Shape of Validation tiles: {}\".format(split_windows_val.shape))\n"
   ]
  },
  {
   "cell_type": "markdown",
   "metadata": {},
   "source": [
    "# Train Hierarchical DivNoising Model"
   ]
  },
  {
   "cell_type": "code",
   "execution_count": null,
   "metadata": {},
   "outputs": [],
   "source": [
    "train_loader, val_loader, test_loader, data_mean, data_std = boilerplate._make_datamanager(split_windows_train,\n",
    "                                                                                           split_windows_val,\n",
    "                                                                                           split_windows_val,\n",
    "                                                                                           batch_size,\n",
    "                                                                                           test_batch_size)\n",
    "\n",
    "if load_checkpoint:\n",
    "    model = torch.load(\"./Trained_model/model/mouse_last_vae.net\")\n",
    "else:\n",
    "    model = LadderVAE(\n",
    "        z_dims=z_dims,\n",
    "        blocks_per_layer=blocks_per_layer,\n",
    "        data_mean=data_mean,\n",
    "        data_std=data_std,\n",
    "        noiseModel=noiseModel,\n",
    "        conv_mult=3,\n",
    "        device=device,\n",
    "        batchnorm=batchnorm,\n",
    "        free_bits=free_bits,\n",
    "        img_shape=img_shape,\n",
    "        grad_checkpoint=True\n",
    "        ).cuda()\n"
   ]
  },
  {
   "cell_type": "code",
   "execution_count": 13,
   "metadata": {},
   "outputs": [
    {
     "name": "stdout",
     "output_type": "stream",
     "text": [
      "Starting epoch 0\n"
     ]
    },
    {
     "name": "stderr",
     "output_type": "stream",
     "text": [
      " 13%|█▎        | 44/350 [00:28<02:32,  2.00it/s]"
     ]
    }
   ],
   "source": [
    "model.train() # Model set in training mode\n",
    "\n",
    "training.train_network(\n",
    "    model=model,                       \n",
    "    lr=lr,\n",
    "    max_epochs=max_epochs,\n",
    "    steps_per_epoch=steps_per_epoch,\n",
    "    test_log_every=500,\n",
    "    directory_path=directory_path,\n",
    "    train_loader=train_loader,\n",
    "    val_loader=val_loader,\n",
    "    test_loader=test_loader,\n",
    "    virtual_batch=virtual_batch,\n",
    "    gaussian_noise_std=gaussian_noise_std,\n",
    "    model_name=model_name,\n",
    "    nrows=2,\n",
    "    gradient_scale=8192\n",
    "    )\n",
    "\n"
   ]
  },
  {
   "cell_type": "markdown",
   "metadata": {},
   "source": [
    "# Plotting Losses"
   ]
  },
  {
   "cell_type": "code",
   "execution_count": 16,
   "metadata": {},
   "outputs": [],
   "source": [
    "trainHist=np.load(directory_path+\"model/train_loss.npy\")\n",
    "reconHist=np.load(directory_path+\"model/train_reco_loss.npy\")\n",
    "klHist=np.load(directory_path+\"model/train_kl_loss.npy\")\n",
    "valHist=np.load(directory_path+\"model/val_loss.npy\")"
   ]
  },
  {
   "cell_type": "code",
   "execution_count": 17,
   "metadata": {},
   "outputs": [
    {
     "data": {
      "image/png": "[encoded data removed]",
      "text/plain": [
       "<Figure size 1800x300 with 3 Axes>"
      ]
     },
     "metadata": {},
     "output_type": "display_data"
    }
   ],
   "source": [
    "plt.figure(figsize=(18, 3))\n",
    "plt.subplot(1,3,1)\n",
    "plt.plot(trainHist,label='training')\n",
    "plt.plot(valHist,label='validation')\n",
    "plt.xlabel(\"epochs\")\n",
    "plt.ylabel(\"loss\")\n",
    "plt.legend()\n",
    "\n",
    "plt.subplot(1,3,2)\n",
    "plt.plot(reconHist,label='training')\n",
    "plt.xlabel(\"epochs\")\n",
    "plt.ylabel(\"reconstruction loss\")\n",
    "plt.legend()\n",
    "\n",
    "plt.subplot(1,3,3)\n",
    "plt.plot(klHist,label='training')\n",
    "plt.xlabel(\"epochs\")\n",
    "plt.ylabel(\"KL loss\")\n",
    "plt.legend()\n",
    "plt.show()"
   ]
  },
  {
   "cell_type": "code",
   "execution_count": null,
   "metadata": {},
   "outputs": [],
   "source": []
  }
 ],
 "metadata": {
  "kernelspec": {
   "display_name": "Python 3.9.13 ('HDNn')",
   "language": "python",
   "name": "python3"
  },
  "language_info": {
   "codemirror_mode": {
    "name": "ipython",
    "version": 3
   },
   "file_extension": ".py",
   "mimetype": "text/x-python",
   "name": "python",
   "nbconvert_exporter": "python",
   "pygments_lexer": "ipython3",
   "version": "3.9.13"
  },
  "orig_nbformat": 4,
  "vscode": {
   "interpreter": {
    "hash": "faf8b084d52efbff00ddf863c4fb0ca7a3b023f9f18590a5b65c31dc02d793e2"
   }
  }
 },
 "nbformat": 4,
 "nbformat_minor": 2
}
