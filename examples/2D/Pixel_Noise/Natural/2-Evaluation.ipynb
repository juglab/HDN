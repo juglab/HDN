{
 "cells": [
  {
   "cell_type": "markdown",
   "metadata": {},
   "source": [
    "# Hierarchical DivNoising - Prediction\n",
    "This notebook contains an example on how to use a previously trained Hierarchical DivNoising model to denoise images.\n",
    "If you haven't done so please first run '1-Training.ipynb', which will train the model. "
   ]
  },
  {
   "cell_type": "code",
   "execution_count": null,
   "metadata": {
    "scrolled": true
   },
   "outputs": [],
   "source": [
    "# We import all our dependencies.\n",
    "import numpy as np\n",
    "import torch\n",
    "import sys\n",
    "sys.path.append('../../../')\n",
    "import lib.utils as utils\n",
    "from boilerplate import boilerplate\n",
    "from matplotlib import pyplot as plt"
   ]
  },
  {
   "cell_type": "code",
   "execution_count": null,
   "metadata": {},
   "outputs": [],
   "source": [
    "use_cuda = torch.cuda.is_available()\n",
    "device = torch.device(\"cuda\" if use_cuda else \"cpu\")"
   ]
  },
  {
   "cell_type": "markdown",
   "metadata": {},
   "source": [
    "# Load GT test data"
   ]
  },
  {
   "cell_type": "code",
   "execution_count": null,
   "metadata": {},
   "outputs": [],
   "source": [
    "test_images_gt = np.load('data/BSD68_reproducibility_data/test/bsd68_groundtruth.npy', allow_pickle=True)"
   ]
  },
  {
   "cell_type": "markdown",
   "metadata": {},
   "source": [
    "# Load noisy test data"
   ]
  },
  {
   "cell_type": "code",
   "execution_count": null,
   "metadata": {},
   "outputs": [],
   "source": [
    "test_images = np.load('data/BSD68_reproducibility_data/test/bsd68_gaussian25.npy', allow_pickle=True)"
   ]
  },
  {
   "cell_type": "markdown",
   "metadata": {},
   "source": [
    "# Load our model"
   ]
  },
  {
   "cell_type": "code",
   "execution_count": null,
   "metadata": {
    "scrolled": true
   },
   "outputs": [],
   "source": [
    "%%capture\n",
    "model = torch.load(\"./Trained_model/model/natural_last_vae.net\")\n",
    "model.mode_pred=True\n",
    "model.eval()"
   ]
  },
  {
   "cell_type": "markdown",
   "metadata": {},
   "source": [
    "# Compute PSNR\n",
    "The higher the PSNR, the better the denoing performance is.\n",
    "PSNR is computed using the formula: \n",
    "\n",
    "```PSNR = 20 * log(rangePSNR) - 10 * log(mse)``` <br> \n",
    "where ```mse = mean((gt - img)**2)```, gt is ground truth image and img is the prediction from HDN. All logarithms are with base 10.<br>\n",
    "rangePSNR = 255 for natural images as used in this [paper](https://openaccess.thecvf.com/content_CVPR_2019/papers/Krull_Noise2Void_-_Learning_Denoising_From_Single_Noisy_Images_CVPR_2019_paper.pdf)"
   ]
  },
  {
   "cell_type": "code",
   "execution_count": null,
   "metadata": {},
   "outputs": [],
   "source": [
    "gaussian_noise_std = 25\n",
    "num_samples = 100 # number of samples used to compute MMSE estimate\n",
    "tta = False # turn on test time augmentation when set to True. It may improve performance at the expense of 8x longer prediction time\n",
    "psnrs = []\n",
    "range_psnr = 255\n",
    "for i in range(test_images.shape[0]):\n",
    "    img_mmse, samples = boilerplate.predict(test_images[i][:-1,:-1],num_samples,model,gaussian_noise_std,device,tta)\n",
    "    psnr = utils.PSNR(test_images_gt[i][:-1,:-1], img_mmse, range_psnr)\n",
    "    psnrs.append(psnr)\n",
    "    print(\"image:\", i, \"PSNR:\", psnr, \"Mean PSNR:\", np.mean(psnrs))"
   ]
  },
  {
   "cell_type": "markdown",
   "metadata": {},
   "source": [
    "# Here we look at some qualitative solutions"
   ]
  },
  {
   "cell_type": "code",
   "execution_count": null,
   "metadata": {},
   "outputs": [],
   "source": [
    "fig=plt.figure(figsize=(20, 10))\n",
    "gt = test_images_gt[-1]\n",
    "vmin=np.percentile(gt,0)\n",
    "vmax=np.percentile(gt,99)\n",
    "\n",
    "\n",
    "columns = 5\n",
    "rows = 1\n",
    "fig.add_subplot(rows, columns, 1)\n",
    "plt.imshow(test_images[-1],cmap='magma')\n",
    "plt.title(\"Raw\")\n",
    "fig.add_subplot(rows, columns, 2)\n",
    "plt.imshow(gt,vmin=vmin, vmax=vmax,cmap='magma')\n",
    "plt.title(\"GT\")\n",
    "fig.add_subplot(rows, columns, 3)\n",
    "plt.imshow(img_mmse,vmin=vmin, vmax=vmax,cmap='magma')\n",
    "plt.title(\"MMSE\")\n",
    "for i in range(4, columns*rows+1):\n",
    "    img = samples[i]\n",
    "    fig.add_subplot(rows, columns, i)\n",
    "    plt.imshow(img,vmin=vmin, vmax=vmax,cmap='magma')\n",
    "    plt.title(\"Sample \"+str(i-4))\n",
    "plt.show()"
   ]
  },
  {
   "cell_type": "code",
   "execution_count": null,
   "metadata": {},
   "outputs": [],
   "source": []
  }
 ],
 "metadata": {
  "kernelspec": {
   "display_name": "HDN",
   "language": "python",
   "name": "hdn"
  },
  "language_info": {
   "codemirror_mode": {
    "name": "ipython",
    "version": 3
   },
   "file_extension": ".py",
   "mimetype": "text/x-python",
   "name": "python",
   "nbconvert_exporter": "python",
   "pygments_lexer": "ipython3",
   "version": "3.7.9"
  }
 },
 "nbformat": 4,
 "nbformat_minor": 4
}
