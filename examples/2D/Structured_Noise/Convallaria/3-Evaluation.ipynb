{
 "cells": [
  {
   "cell_type": "markdown",
   "metadata": {},
   "source": [
    "# Hierarchical DivNoising - Prediction\n",
    "This notebook contains an example on how to use a previously trained Hierarchical DivNoising model to denoise images corrupted with pixel noises and horizontal structured noise.\n",
    "If you haven't done so please first run '1-CreateNoiseModel.ipynb' and '2-Training.ipynb' notebooks."
   ]
  },
  {
   "cell_type": "code",
   "execution_count": null,
   "metadata": {
    "collapsed": true,
    "scrolled": true
   },
   "outputs": [],
   "source": [
    "# We import all our dependencies.\n",
    "import numpy as np\n",
    "import math\n",
    "import torch\n",
    "import torch.nn as nn\n",
    "import torch.nn.functional as F\n",
    "import torch.optim as optim\n",
    "from torch.optim.optimizer import Optimizer\n",
    "\n",
    "import sys\n",
    "sys.path.append('../../../')\n",
    "\n",
    "from models.lvae import LadderVAE\n",
    "from boilerplate import boilerplate\n",
    "import lib.utils as utils\n",
    "import training\n",
    "\n",
    "import os\n",
    "import glob\n",
    "import zipfile\n",
    "import urllib\n",
    "from tifffile import imread, imsave\n",
    "from matplotlib import pyplot as plt\n",
    "from tqdm import tqdm"
   ]
  },
  {
   "cell_type": "code",
   "execution_count": null,
   "metadata": {
    "collapsed": true
   },
   "outputs": [],
   "source": [
    "use_cuda = torch.cuda.is_available()\n",
    "device = torch.device(\"cuda\" if use_cuda else \"cpu\")"
   ]
  },
  {
   "cell_type": "markdown",
   "metadata": {},
   "source": [
    "# Load noisy test data\n",
    "The GT test data (```signal```) is created by averaging the noisy images (```observation```)."
   ]
  },
  {
   "cell_type": "code",
   "execution_count": null,
   "metadata": {
    "collapsed": true
   },
   "outputs": [],
   "source": [
    "path = \"./data/Struct_Convallaria/\"\n",
    "# The test data is just one quater of the full image ([:,:512,:512]) following the works which have used this data earlier\n",
    "observation = imread(path+\"flower.tif\")[:,:512,:512].astype(\"float32\")\n",
    "signal=np.mean(observation[:,...],axis=0)[np.newaxis,...]\n",
    "img_width, img_height = signal.shape[1], signal.shape[2]\n",
    "\n",
    "plt.figure(figsize=(15, 5))\n",
    "plt.imshow(signal[0],cmap='magma')"
   ]
  },
  {
   "cell_type": "markdown",
   "metadata": {},
   "source": [
    "# Load our model"
   ]
  },
  {
   "cell_type": "code",
   "execution_count": null,
   "metadata": {
    "collapsed": true,
    "scrolled": true
   },
   "outputs": [],
   "source": [
    "%%capture\n",
    "model = torch.load(\".Trained_model/model/convallaria_last_vae.net\")\n",
    "model.mode_pred=True\n",
    "model.eval()"
   ]
  },
  {
   "cell_type": "markdown",
   "metadata": {},
   "source": [
    "# Compute PSNR\n",
    "The higher the PSNR, the better the denoising performance is.\n",
    "PSNR is computed using the formula: \n",
    "\n",
    "```PSNR = 20 * log(rangePSNR) - 10 * log(mse)``` <br> \n",
    "where ```mse = mean((gt - img)**2)```, ```gt``` is ground truth image and ```img``` is the prediction from HDN. All logarithms are with base 10.<br>\n",
    "rangePSNR = max(```gt```)-min(```gt```) for as used in this [paper](https://ieeexplore.ieee.org/abstract/document/9098612/)."
   ]
  },
  {
   "cell_type": "code",
   "execution_count": null,
   "metadata": {
    "collapsed": true
   },
   "outputs": [],
   "source": [
    "gaussian_noise_std = None\n",
    "num_samples = 100 # number of samples used to compute MMSE estimate\n",
    "tta = False # turn on test time augmentation when set to True. It may improve performance at the expense of 8x longer prediction time\n",
    "psnrs = []\n",
    "range_psnr = np.max(signal[0])-np.min(signal[0])\n",
    "for i in range(observation.shape[0]):\n",
    "    img_mmse, samples = boilerplate.predict(observation[i],num_samples,model,gaussian_noise_std,device,tta)\n",
    "    psnr = utils.PSNR(signal[0], img_mmse, range_psnr)\n",
    "    psnrs.append(psnr)\n",
    "    print(\"image:\", i, \"PSNR:\", psnr, \"Mean PSNR:\", np.mean(psnrs))"
   ]
  },
  {
   "cell_type": "markdown",
   "metadata": {},
   "source": [
    "# Here we look at some qualitative solutions"
   ]
  },
  {
   "cell_type": "code",
   "execution_count": null,
   "metadata": {
    "collapsed": true
   },
   "outputs": [],
   "source": [
    "fig=plt.figure(figsize=(20, 10))\n",
    "gt = signal[0][250:400,175:325]\n",
    "vmin=np.percentile(gt,0)\n",
    "vmax=np.percentile(gt,99)\n",
    "\n",
    "\n",
    "columns = 5\n",
    "rows = 1\n",
    "fig.add_subplot(rows, columns, 1)\n",
    "plt.imshow(observation[-1][250:400,175:325],cmap='magma')\n",
    "plt.title(\"Raw\")\n",
    "fig.add_subplot(rows, columns, 2)\n",
    "plt.imshow(gt,vmin=vmin, vmax=vmax,cmap='magma')\n",
    "plt.title(\"GT\")\n",
    "fig.add_subplot(rows, columns, 3)\n",
    "plt.imshow(img_mmse[250:400,175:325],vmin=vmin, vmax=vmax,cmap='magma')\n",
    "plt.title(\"MMSE\")\n",
    "for i in range(4, columns*rows+1):\n",
    "    img = samples[i][250:400,175:325]\n",
    "    fig.add_subplot(rows, columns, i)\n",
    "    plt.imshow(img,vmin=vmin, vmax=vmax,cmap='magma')\n",
    "    plt.title(\"Sample \"+str(i-4))\n",
    "plt.show()"
   ]
  },
  {
   "cell_type": "code",
   "execution_count": null,
   "metadata": {
    "collapsed": true
   },
   "outputs": [],
   "source": []
  }
 ],
 "metadata": {
  "kernelspec": {
   "display_name": "Python 3",
   "language": "python",
   "name": "python3"
  },
  "language_info": {
   "codemirror_mode": {
    "name": "ipython",
    "version": 3
   },
   "file_extension": ".py",
   "mimetype": "text/x-python",
   "name": "python",
   "nbconvert_exporter": "python",
   "pygments_lexer": "ipython3",
   "version": "3.6.1"
  }
 },
 "nbformat": 4,
 "nbformat_minor": 4
}
